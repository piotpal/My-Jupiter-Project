{
 "cells": [
  {
   "cell_type": "markdown",
   "id": "88b847b7",
   "metadata": {},
   "source": [
    "### My Jupyter Project"
   ]
  },
  {
   "cell_type": "markdown",
   "id": "82c27103",
   "metadata": {},
   "source": [
    "_My name is piotr and in this project I will showcase my jupyter nootbook creation skills_"
   ]
  },
  {
   "cell_type": "markdown",
   "id": "900ad3b7",
   "metadata": {},
   "source": [
    "Data scientist languages:\n",
    "- SQL\n",
    "- R\n",
    "- Python"
   ]
  },
  {
   "cell_type": "markdown",
   "id": "686eb07f",
   "metadata": {},
   "source": [
    "Python libraries:\n",
    "- Pandas\n",
    "- NumPy\n",
    "- Scikit-learn\n",
    "- PyTorch\n",
    "\n",
    "Scala libraries:\n",
    "- Vegas\n",
    "- Big DL\n",
    "\n",
    "R libraries:\n",
    "- ggplot2\n",
    "- keras"
   ]
  },
  {
   "cell_type": "markdown",
   "id": "28efb7fc",
   "metadata": {},
   "source": [
    "| Tool Name | Provider |\n",
    "| ------ | ------ |\n",
    "| Jupyter Nootbook | Open Source |\n",
    "| IBM Watson Studio | IBM |\n",
    "| R Studio | Open Source |\n",
    "| GitHub | Open Source |"
   ]
  },
  {
   "cell_type": "code",
   "execution_count": null,
   "id": "c9c59603",
   "metadata": {},
   "outputs": [],
   "source": []
  }
 ],
 "metadata": {
  "kernelspec": {
   "display_name": "Python 3 (ipykernel)",
   "language": "python",
   "name": "python3"
  },
  "language_info": {
   "codemirror_mode": {
    "name": "ipython",
    "version": 3
   },
   "file_extension": ".py",
   "mimetype": "text/x-python",
   "name": "python",
   "nbconvert_exporter": "python",
   "pygments_lexer": "ipython3",
   "version": "3.9.13"
  }
 },
 "nbformat": 4,
 "nbformat_minor": 5
}
