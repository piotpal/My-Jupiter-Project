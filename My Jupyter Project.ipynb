{
 "cells": [
  {
   "cell_type": "markdown",
   "id": "771dadfb",
   "metadata": {},
   "source": [
    "### My Jupyter Project"
   ]
  },
  {
   "cell_type": "markdown",
   "id": "ccbc3bca",
   "metadata": {},
   "source": [
    "_My name is Piotr and in this project I will showcase my jupyter nootbook creation skills_"
   ]
  },
  {
   "cell_type": "markdown",
   "id": "f3ddd954",
   "metadata": {},
   "source": [
    "Data scientist languages:\n",
    "- SQL\n",
    "- R\n",
    "- Python"
   ]
  },
  {
   "cell_type": "markdown",
   "id": "081e7099",
   "metadata": {},
   "source": [
    "Python libraries:\n",
    "- Pandas\n",
    "- NumPy\n",
    "- Scikit-learn\n",
    "- PyTorch\n",
    "\n",
    "Scala libraries:\n",
    "- Vegas\n",
    "- Big DL\n",
    "\n",
    "R libraries:\n",
    "- ggplot2\n",
    "- keras"
   ]
  },
  {
   "cell_type": "markdown",
   "id": "4f923119",
   "metadata": {},
   "source": [
    "| Tool Name | Provider |\n",
    "| ------ | ------ |\n",
    "| Jupyter Nootbook | Open Source |\n",
    "| IBM Watson Studio | IBM |\n",
    "| R Studio | Open Source |\n",
    "| GitHub | Open Source |"
   ]
  },
  {
   "cell_type": "markdown",
   "id": "d56ddfb0",
   "metadata": {},
   "source": [
    "Arithmetic expression examples:"
   ]
  },
  {
   "cell_type": "code",
   "execution_count": 9,
   "id": "c261d638",
   "metadata": {},
   "outputs": [
    {
     "data": {
      "text/plain": [
       "24"
      ]
     },
     "execution_count": 9,
     "metadata": {},
     "output_type": "execute_result"
    }
   ],
   "source": [
    "(1+1+1)*2*2*2"
   ]
  },
  {
   "cell_type": "code",
   "execution_count": 11,
   "id": "b7550bd4",
   "metadata": {},
   "outputs": [
    {
     "name": "stdout",
     "output_type": "stream",
     "text": [
      "3033.3\n"
     ]
    }
   ],
   "source": [
    "minutes = 181998\n",
    "hours = minutes/60\n",
    "print (hours)"
   ]
  },
  {
   "cell_type": "markdown",
   "id": "79d3d9c7",
   "metadata": {},
   "source": [
    "- objective 1\n",
    "- objective 2\n",
    "- objective 3"
   ]
  },
  {
   "cell_type": "markdown",
   "id": "a8638d4d",
   "metadata": {},
   "source": [
    "### Author Name: <br>\n",
    "_Piotr P_"
   ]
  }
 ],
 "metadata": {
  "kernelspec": {
   "display_name": "Python 3 (ipykernel)",
   "language": "python",
   "name": "python3"
  },
  "language_info": {
   "codemirror_mode": {
    "name": "ipython",
    "version": 3
   },
   "file_extension": ".py",
   "mimetype": "text/x-python",
   "name": "python",
   "nbconvert_exporter": "python",
   "pygments_lexer": "ipython3",
   "version": "3.9.13"
  }
 },
 "nbformat": 4,
 "nbformat_minor": 5
}
